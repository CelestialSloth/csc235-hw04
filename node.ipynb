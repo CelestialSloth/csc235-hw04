{
 "cells": [
  {
   "cell_type": "code",
   "execution_count": 10,
   "metadata": {},
   "outputs": [],
   "source": [
    "import pandas as pd"
   ]
  },
  {
   "cell_type": "code",
   "execution_count": 18,
   "metadata": {},
   "outputs": [
    {
     "data": {
      "text/html": [
       "<div>\n",
       "<style scoped>\n",
       "    .dataframe tbody tr th:only-of-type {\n",
       "        vertical-align: middle;\n",
       "    }\n",
       "\n",
       "    .dataframe tbody tr th {\n",
       "        vertical-align: top;\n",
       "    }\n",
       "\n",
       "    .dataframe thead th {\n",
       "        text-align: right;\n",
       "    }\n",
       "</style>\n",
       "<table border=\"1\" class=\"dataframe\">\n",
       "  <thead>\n",
       "    <tr style=\"text-align: right;\">\n",
       "      <th></th>\n",
       "      <th>IP</th>\n",
       "      <th>type</th>\n",
       "      <th>priority</th>\n",
       "    </tr>\n",
       "  </thead>\n",
       "  <tbody>\n",
       "    <tr>\n",
       "      <th>0</th>\n",
       "      <td>10.32.0.1</td>\n",
       "      <td>Firewall</td>\n",
       "      <td>high</td>\n",
       "    </tr>\n",
       "    <tr>\n",
       "      <th>1</th>\n",
       "      <td>172.23.0.1</td>\n",
       "      <td>Firewall</td>\n",
       "      <td>high</td>\n",
       "    </tr>\n",
       "    <tr>\n",
       "      <th>2</th>\n",
       "      <td>10.32.0.100</td>\n",
       "      <td>Firewall</td>\n",
       "      <td>high</td>\n",
       "    </tr>\n",
       "    <tr>\n",
       "      <th>3</th>\n",
       "      <td>172.25.0.1</td>\n",
       "      <td>Firewall</td>\n",
       "      <td>high</td>\n",
       "    </tr>\n",
       "    <tr>\n",
       "      <th>4</th>\n",
       "      <td>10.32.0.201-210</td>\n",
       "      <td>Websites</td>\n",
       "      <td>na</td>\n",
       "    </tr>\n",
       "  </tbody>\n",
       "</table>\n",
       "</div>"
      ],
      "text/plain": [
       "                IP      type priority\n",
       "0        10.32.0.1  Firewall     high\n",
       "1       172.23.0.1  Firewall     high\n",
       "2      10.32.0.100  Firewall     high\n",
       "3       172.25.0.1  Firewall     high\n",
       "4  10.32.0.201-210  Websites       na"
      ]
     },
     "execution_count": 18,
     "metadata": {},
     "output_type": "execute_result"
    }
   ],
   "source": [
    "node_df = pd.read_csv('node.csv')\n",
    "\n",
    "# add IP 172.23.214.x through 172.23.229.x \n",
    "ip_addresses = [f\"172.23.{i}.{j}\" for i in range(214, 230) for j in range(256)]\n",
    "new_ips_df = pd.DataFrame(ip_addresses, columns=['IP'])\n",
    "new_ips_df['type'] = 'Financial servers'\n",
    "new_ips_df['priority'] = 'high'\n",
    "\n",
    "node_df = pd.concat([node_df, new_ips_df], ignore_index=True)\n",
    "\n",
    "ip_set = set(node_df[node_df['IP'].str.startswith('172.23.')]['IP'])\n",
    "\n",
    "for index, row in node_df.iterrows():\n",
    "    if row['IP'].startswith('172.23.') in ip_set:\n",
    "        ip_set.discard(row['IP'])\n",
    "\n",
    "ip_set_df = pd.DataFrame(ip_set, columns=['IP'])\n",
    "ip_set_df['type'] = 'Workstations'\n",
    "ip_set_df['priority'] = 'normal'\n",
    "node_df = pd.concat([node_df, ip_set_df], ignore_index=True)\n",
    "\n",
    "node_df.head()"
   ]
  },
  {
   "cell_type": "code",
   "execution_count": 19,
   "metadata": {},
   "outputs": [
    {
     "name": "stdout",
     "output_type": "stream",
     "text": [
      "Firewall\n",
      "Websites\n",
      "na\n",
      "log server\n",
      "Financial servers\n",
      "Workstations\n"
     ]
    }
   ],
   "source": [
    "#test\n",
    "unique_types = node_df['type'].unique()\n",
    "for unique_type in unique_types:\n",
    "    print(unique_type)"
   ]
  }
 ],
 "metadata": {
  "kernelspec": {
   "display_name": "Python 3",
   "language": "python",
   "name": "python3"
  },
  "language_info": {
   "codemirror_mode": {
    "name": "ipython",
    "version": 3
   },
   "file_extension": ".py",
   "mimetype": "text/x-python",
   "name": "python",
   "nbconvert_exporter": "python",
   "pygments_lexer": "ipython3",
   "version": "3.12.6"
  }
 },
 "nbformat": 4,
 "nbformat_minor": 2
}
